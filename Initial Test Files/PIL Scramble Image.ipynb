{
 "cells": [
  {
   "cell_type": "code",
   "execution_count": 1,
   "metadata": {},
   "outputs": [
    {
     "name": "stdout",
     "output_type": "stream",
     "text": [
      "<class 'PixelAccess'>\n"
     ]
    }
   ],
   "source": [
    "from PIL import Image\n",
    "import math\n",
    "import matplotlib.pyplot as plt\n",
    "import matplotlib.image as mpimg\n",
    "\n",
    "im = Image.open(\"dexter.png\", \"r\")\n",
    "imOr = Image.open(\"dexter.png\",\"r\")\n",
    "arr = im.load() #pixel data stored in this 2D array\n",
    "\n",
    "def rot(A, n, x1, y1): #this is the function which rotates a given block\n",
    "    temple = []\n",
    "    for i in range(n):\n",
    "        temple.append([])\n",
    "        for j in range(n):\n",
    "            temple[i].append(arr[x1+i, y1+j])\n",
    "    for i in range(n):\n",
    "        for j in range(n):\n",
    "            arr[x1+i,y1+j] = temple[n-1-i][n-1-j]\n",
    "\n",
    "\n",
    "xres = im.width\n",
    "yres = im.height\n",
    "BLKSZ = 50\n",
    "#blocksize\n",
    "\n",
    "for i in range(2, BLKSZ+1):\n",
    "    for j in range(int(math.floor(float(xres)/float(i)))):\n",
    "        for k in range(int(math.floor(float(yres)/float(i)))):\n",
    "            rot(arr, i, j*i, k*i)\n",
    "            \n",
    "for i in range(3, BLKSZ+1):\n",
    "    for j in range(int(math.floor(float(xres)/float(BLKSZ+2-i)))):\n",
    "        for k in range(int(math.floor(float(yres)/float(BLKSZ+2-i)))):\n",
    "            rot(arr, BLKSZ+2-i, j*(BLKSZ+2-i), k*(BLKSZ+2-i))\n",
    "\n",
    "im.save(\"imageNew \"+str(BLKSZ)+\".png\")\n",
    "print(type(arr))\n",
    "imgShow = plt.imshow(im)"
   ]
  },
  {
   "cell_type": "code",
   "execution_count": null,
   "metadata": {},
   "outputs": [],
   "source": []
  }
 ],
 "metadata": {
  "kernelspec": {
   "display_name": "Python 3",
   "language": "python",
   "name": "python3"
  },
  "language_info": {
   "codemirror_mode": {
    "name": "ipython",
    "version": 3
   },
   "file_extension": ".py",
   "mimetype": "text/x-python",
   "name": "python",
   "nbconvert_exporter": "python",
   "pygments_lexer": "ipython3",
   "version": "3.7.3"
  }
 },
 "nbformat": 4,
 "nbformat_minor": 2
}
