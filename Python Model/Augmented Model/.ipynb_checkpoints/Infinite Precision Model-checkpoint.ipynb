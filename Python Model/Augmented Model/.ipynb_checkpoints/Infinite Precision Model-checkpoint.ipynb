{
 "cells": [
  {
   "cell_type": "code",
   "execution_count": 1,
   "id": "indie-howard",
   "metadata": {},
   "outputs": [],
   "source": [
    "#Imports\n",
    "import time\n",
    "import random\n",
    "import cv2\n",
    "import os\n",
    "import math\n",
    "import numpy as np\n",
    "import matplotlib.pyplot as plt\n",
    "from matplotlib.widgets import Cursor\n",
    "from PIL import Image\n",
    "import hashlib\n",
    "get_ipython().run_line_magic('matplotlib', 'inline')"
   ]
  },
  {
   "cell_type": "code",
   "execution_count": 2,
   "id": "consecutive-overall",
   "metadata": {},
   "outputs": [],
   "source": [
    "\n",
    "#Iterations of Cascade\n",
    "n = 20\n",
    "\n",
    "diffRound = 1\n",
    "originalKey =   0x12d6870025ad0e01d32ec40096b438074cbb1"
   ]
  },
  {
   "cell_type": "code",
   "execution_count": null,
   "id": "stock-dealer",
   "metadata": {},
   "outputs": [],
   "source": [
    "#Piecewise Lineaer Chaotic Map for y1,z1 from y0,z0,p1,p2\n",
    "#recursive functions\n",
    "def PL_PWLCM(y0,p2):\n",
    "    y1=0\n",
    "    if y0<p2:\n",
    "        y1 = math.floor(y0/p2)\n",
    "    elif y0>=p2 and y0 < 0.5:\n",
    "        y1 = math.floor((y0-p2)/(0.5 - p2))\n",
    "    elif y0>=0.5 and y0 <1 :\n",
    "        y1 = PL_PWLCM(1-y0, p2)\n",
    "    else:\n",
    "        y1 = 0\n",
    "        \n",
    "    return y1\n",
    "\n",
    "#Logistic Map for x1 from x0\n",
    "def PL_Logistic(x0):\n",
    "    x1 = math.floor(4*x0*(exp32-x0)/exp32)\n",
    "    return x1\n",
    "\n",
    "def PWLCM_Init(x0,y0,p1,p2):\n",
    "    x1 = x0\n",
    "    y1 = y0\n",
    "    for i in range(n):\n",
    "        x1 = PL_PWLCM(x1,p1)\n",
    "        y1 = PL_PWLCM(y1,p2)\n",
    "    return x1,y1\n",
    "\n",
    "def Logistic_Init(x0):\n",
    "    x1 = x0\n",
    "    for i in range(n):\n",
    "        x1 = PL_Logistic(x1)\n",
    "    return x1\n"
   ]
  }
 ],
 "metadata": {
  "kernelspec": {
   "display_name": "Python 3",
   "language": "python",
   "name": "python3"
  },
  "language_info": {
   "codemirror_mode": {
    "name": "ipython",
    "version": 3
   },
   "file_extension": ".py",
   "mimetype": "text/x-python",
   "name": "python",
   "nbconvert_exporter": "python",
   "pygments_lexer": "ipython3",
   "version": "3.6.13"
  }
 },
 "nbformat": 4,
 "nbformat_minor": 5
}
